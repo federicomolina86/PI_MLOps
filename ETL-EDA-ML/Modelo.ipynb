{
  "nbformat": 4,
  "nbformat_minor": 0,
  "metadata": {
    "colab": {
      "provenance": []
    },
    "kernelspec": {
      "name": "python3",
      "display_name": "Python 3"
    },
    "language_info": {
      "name": "python"
    }
  },
  "cells": [
    {
      "cell_type": "code",
      "execution_count": 3,
      "metadata": {
        "id": "FkzXsmfAoQyW"
      },
      "outputs": [],
      "source": [
        "#Importar librerías y archivo\n",
        "import pandas as pd\n",
        "from sklearn.preprocessing import StandardScaler\n",
        "from sklearn.metrics.pairwise import cosine_similarity\n",
        "games_df=pd.read_csv('games.csv')\n"
      ]
    },
    {
      "cell_type": "code",
      "source": [
        "#Preprocesamiento de datos: preprocesar los datos para poder calcular la similitud del coseno\n",
        "\n",
        "# Seleccionar las columnas relevantes para el cálculo de similitud\n",
        "selected_columns = ['id', 'Accounting', 'Action', 'Adventure', 'Animation &amp; Modeling' , 'Audio Production', 'Casual', 'Design &amp; Illustration', 'Early Access', 'Education', 'Free to Play', 'Indie', 'Massively Multiplayer', 'Photo Editing', 'RPG', 'Racing', 'Simulation', 'Software Training', 'Sports', 'Strategy', 'Utilities', 'Video Production', 'Web Publishing']\n",
        "\n",
        "# Filtrar el DataFrame para incluir solo las columnas seleccionadas\n",
        "games_subset = games_df[selected_columns]\n",
        "\n",
        "# Normalizar las columnas de género\n",
        "scaler = StandardScaler()\n",
        "games_normalized = scaler.fit_transform(games_subset.iloc[:, 1:])\n",
        "\n",
        "# Crear un nuevo DataFrame con los datos normalizados\n",
        "games_normalized_df = pd.DataFrame(games_normalized, columns=games_subset.columns[1:])\n",
        "\n",
        "# Combinar el ID con el DataFrame normalizado\n",
        "games_normalized_df['id'] = games_df['id']\n",
        "\n",
        "#Calcular la similitud del coseno: usar la función cosine_similarity de scikit-learn\n",
        "\n",
        "# Eliminar la columna 'id' temporalmente para calcular la similitud\n",
        "game_ids = games_normalized_df['id']\n",
        "games_normalized_df = games_normalized_df.drop(columns=['id'])\n",
        "\n",
        "# Calcular la matriz de similitud del coseno\n",
        "cosine_sim_matrix = cosine_similarity(games_normalized_df, games_normalized_df)\n",
        "\n",
        "# Convertir la matriz de similitud en un DataFrame\n",
        "cosine_sim_df = pd.DataFrame(cosine_sim_matrix, index=game_ids, columns=game_ids)\n",
        "\n",
        "# Restablecer la columna 'id'\n",
        "games_normalized_df['id'] = game_ids"
      ],
      "metadata": {
        "id": "bF7Hg4kEoR3b"
      },
      "execution_count": 4,
      "outputs": []
    },
    {
      "cell_type": "code",
      "source": [
        "#Función de recomendación: función que toma el id de un juego y recomienda 5 juegos similares basados en la similitud del coseno.\n",
        "def recommend_games(game_id):\n",
        "    # Encuentra el nombre del juego en base al id\n",
        "    game_title = games_df[games_df['id'] == game_id]['title'].values[0]\n",
        "\n",
        "    # Obtiene las puntuaciones de similitud del juego específico\n",
        "    game_similarity_scores = cosine_sim_df[game_id]\n",
        "\n",
        "    # Ordena los juegos por similitud descendente\n",
        "    recommended_game_ids = game_similarity_scores.sort_values(ascending=False).index[1:6]\n",
        "\n",
        "    # Obtiene los títulos de los 5 juegos recomendados\n",
        "    recommended_games = games_df[games_df['id'].isin(recommended_game_ids)]['title']\n",
        "\n",
        "    return recommended_games"
      ],
      "metadata": {
        "id": "Agj7Uz-BpZgc"
      },
      "execution_count": 5,
      "outputs": []
    },
    {
      "cell_type": "code",
      "source": [
        "print('Los juegos similares a Tom Raider son:\\n', recommend_games(8000))\n",
        "print('Los juegos similares a Ironbound son:\\n', recommend_games(643980))"
      ],
      "metadata": {
        "colab": {
          "base_uri": "https://localhost:8080/"
        },
        "id": "pbYe0zGospKv",
        "outputId": "37b53292-e923-4cac-bd96-db922c22f4e6"
      },
      "execution_count": 17,
      "outputs": [
        {
          "output_type": "stream",
          "name": "stdout",
          "text": [
            "Los juegos similares a Tom Raider son:\n",
            " 1719     Assassin’s Creed® IV Black Flag™ - Time saver:...\n",
            "1730          Saints Row IV - Hey Ash Whatcha Playin? Pack\n",
            "11069         Outcast - Second Contact Original Soundtrack\n",
            "11407             Instinct Coin &amp; Madhouse Mode Unlock\n",
            "22891                                 Way of the Samurai 4\n",
            "Name: title, dtype: object\n",
            "Los juegos similares a Ironbound son:\n",
            " 5771     Immortal Empire - Starter Pack 2\n",
            "9952             Labyrinth - Starter Pack\n",
            "20356    Immortal Empire - Mercenary Pack\n",
            "23234                Vulture for Slash'EM\n",
            "27112           The Banner Saga: Factions\n",
            "Name: title, dtype: object\n"
          ]
        }
      ]
    }
  ]
}